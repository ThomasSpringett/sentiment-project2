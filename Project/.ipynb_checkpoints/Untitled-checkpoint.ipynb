{
 "cells": [
  {
   "cell_type": "code",
   "execution_count": 2,
   "metadata": {},
   "outputs": [
    {
     "name": "stdout",
     "output_type": "stream",
     "text": [
      "On branch main\r\n",
      "Your branch is ahead of 'origin/master' by 4 commits.\r\n",
      "  (use \"git push\" to publish your local commits)\r\n",
      "\r\n",
      "Changes not staged for commit:\r\n",
      "  (use \"git add <file>...\" to update what will be committed)\r\n",
      "  (use \"git checkout -- <file>...\" to discard changes in working directory)\r\n",
      "\r\n",
      "\t\u001b[31mmodified:   ../Mini-Projects/IMDB Sentiment Analysis - XGBoost (Batch Transform) - Solution.ipynb\u001b[m\r\n",
      "\t\u001b[31mmodified:   ../Mini-Projects/IMDB Sentiment Analysis - XGBoost (Updating a Model) - Solution.ipynb\u001b[m\r\n",
      "\t\u001b[31mmodified:   SageMaker Project Ca.ipynb\u001b[m\r\n",
      "\r\n",
      "Untracked files:\r\n",
      "  (use \"git add <file>...\" to include in what will be committed)\r\n",
      "\r\n",
      "\t\u001b[31mUntitled.ipynb\u001b[m\r\n",
      "\t\u001b[31m../cache/\u001b[m\r\n",
      "\t\u001b[31m../data/\u001b[m\r\n",
      "\r\n",
      "no changes added to commit (use \"git add\" and/or \"git commit -a\")\r\n"
     ]
    }
   ],
   "source": [
    "!git status\n",
    "\n"
   ]
  },
  {
   "cell_type": "code",
   "execution_count": 1,
   "metadata": {},
   "outputs": [
    {
     "name": "stdout",
     "output_type": "stream",
     "text": [
      "=2.15.2      README.md\t\t\t train\t\t      website\r\n",
      "helpers.py   SageMaker Project Ca.ipynb  Untitled.ipynb\r\n",
      "__pycache__  serve\t\t\t Web App Diagram.svg\r\n"
     ]
    }
   ],
   "source": [
    "!ls"
   ]
  },
  {
   "cell_type": "code",
   "execution_count": 3,
   "metadata": {},
   "outputs": [
    {
     "name": "stdout",
     "output_type": "stream",
     "text": [
      "fatal: The upstream branch of your current branch does not match\r\n",
      "the name of your current branch.  To push to the upstream branch\r\n",
      "on the remote, use\r\n",
      "\r\n",
      "    git push origin HEAD:master\r\n",
      "\r\n",
      "To push to the branch of the same name on the remote, use\r\n",
      "\r\n",
      "    git push origin main\r\n",
      "\r\n",
      "To choose either option permanently, see push.default in 'git help config'.\r\n"
     ]
    }
   ],
   "source": [
    "!git push"
   ]
  },
  {
   "cell_type": "code",
   "execution_count": 4,
   "metadata": {},
   "outputs": [
    {
     "name": "stdout",
     "output_type": "stream",
     "text": [
      "On branch main\r\n",
      "Your branch is ahead of 'origin/master' by 4 commits.\r\n",
      "  (use \"git push\" to publish your local commits)\r\n",
      "\r\n",
      "Changes not staged for commit:\r\n",
      "  (use \"git add <file>...\" to update what will be committed)\r\n",
      "  (use \"git checkout -- <file>...\" to discard changes in working directory)\r\n",
      "\r\n",
      "\t\u001b[31mmodified:   ../Mini-Projects/IMDB Sentiment Analysis - XGBoost (Batch Transform) - Solution.ipynb\u001b[m\r\n",
      "\t\u001b[31mmodified:   ../Mini-Projects/IMDB Sentiment Analysis - XGBoost (Updating a Model) - Solution.ipynb\u001b[m\r\n",
      "\t\u001b[31mmodified:   SageMaker Project Ca.ipynb\u001b[m\r\n",
      "\r\n",
      "Untracked files:\r\n",
      "  (use \"git add <file>...\" to include in what will be committed)\r\n",
      "\r\n",
      "\t\u001b[31mUntitled.ipynb\u001b[m\r\n",
      "\t\u001b[31m../cache/\u001b[m\r\n",
      "\t\u001b[31m../data/\u001b[m\r\n",
      "\r\n",
      "no changes added to commit (use \"git add\" and/or \"git commit -a\")\r\n"
     ]
    }
   ],
   "source": [
    "!git status"
   ]
  },
  {
   "cell_type": "code",
   "execution_count": 5,
   "metadata": {},
   "outputs": [
    {
     "name": "stdout",
     "output_type": "stream",
     "text": [
      "error: Your local changes to the following files would be overwritten by checkout:\r\n",
      "\tProject/SageMaker Project Ca.ipynb\r\n",
      "Please commit your changes or stash them before you switch branches.\r\n",
      "Aborting\r\n"
     ]
    }
   ],
   "source": [
    "!git checkout master"
   ]
  },
  {
   "cell_type": "code",
   "execution_count": 6,
   "metadata": {},
   "outputs": [
    {
     "name": "stdout",
     "output_type": "stream",
     "text": [
      "On branch main\r\n",
      "Your branch is ahead of 'origin/master' by 4 commits.\r\n",
      "  (use \"git push\" to publish your local commits)\r\n",
      "\r\n",
      "Changes not staged for commit:\r\n",
      "\t\u001b[31mmodified:   ../Mini-Projects/IMDB Sentiment Analysis - XGBoost (Batch Transform) - Solution.ipynb\u001b[m\r\n",
      "\t\u001b[31mmodified:   ../Mini-Projects/IMDB Sentiment Analysis - XGBoost (Updating a Model) - Solution.ipynb\u001b[m\r\n",
      "\t\u001b[31mmodified:   SageMaker Project Ca.ipynb\u001b[m\r\n",
      "\r\n",
      "Untracked files:\r\n",
      "\t\u001b[31mUntitled.ipynb\u001b[m\r\n",
      "\t\u001b[31m../cache/\u001b[m\r\n",
      "\t\u001b[31m../data/\u001b[m\r\n",
      "\r\n",
      "no changes added to commit\r\n"
     ]
    }
   ],
   "source": [
    "!git commit -m \"test\""
   ]
  },
  {
   "cell_type": "code",
   "execution_count": 7,
   "metadata": {},
   "outputs": [
    {
     "name": "stdout",
     "output_type": "stream",
     "text": [
      "fatal: The upstream branch of your current branch does not match\r\n",
      "the name of your current branch.  To push to the upstream branch\r\n",
      "on the remote, use\r\n",
      "\r\n",
      "    git push origin HEAD:master\r\n",
      "\r\n",
      "To push to the branch of the same name on the remote, use\r\n",
      "\r\n",
      "    git push origin main\r\n",
      "\r\n",
      "To choose either option permanently, see push.default in 'git help config'.\r\n"
     ]
    }
   ],
   "source": [
    "!git push origin"
   ]
  },
  {
   "cell_type": "code",
   "execution_count": 8,
   "metadata": {},
   "outputs": [
    {
     "name": "stdout",
     "output_type": "stream",
     "text": [
      "On branch main\r\n",
      "Your branch is ahead of 'origin/master' by 4 commits.\r\n",
      "  (use \"git push\" to publish your local commits)\r\n",
      "\r\n",
      "Changes not staged for commit:\r\n",
      "  (use \"git add <file>...\" to update what will be committed)\r\n",
      "  (use \"git checkout -- <file>...\" to discard changes in working directory)\r\n",
      "\r\n",
      "\t\u001b[31mmodified:   ../Mini-Projects/IMDB Sentiment Analysis - XGBoost (Batch Transform) - Solution.ipynb\u001b[m\r\n",
      "\t\u001b[31mmodified:   ../Mini-Projects/IMDB Sentiment Analysis - XGBoost (Updating a Model) - Solution.ipynb\u001b[m\r\n",
      "\t\u001b[31mmodified:   SageMaker Project Ca.ipynb\u001b[m\r\n",
      "\r\n",
      "Untracked files:\r\n",
      "  (use \"git add <file>...\" to include in what will be committed)\r\n",
      "\r\n",
      "\t\u001b[31mUntitled.ipynb\u001b[m\r\n",
      "\t\u001b[31m../cache/\u001b[m\r\n",
      "\t\u001b[31m../data/\u001b[m\r\n",
      "\r\n",
      "no changes added to commit (use \"git add\" and/or \"git commit -a\")\r\n"
     ]
    }
   ],
   "source": [
    "!git status"
   ]
  },
  {
   "cell_type": "code",
   "execution_count": 10,
   "metadata": {},
   "outputs": [],
   "source": [
    "!git add ."
   ]
  },
  {
   "cell_type": "code",
   "execution_count": null,
   "metadata": {},
   "outputs": [],
   "source": []
  }
 ],
 "metadata": {
  "kernelspec": {
   "display_name": "conda_python3",
   "language": "python",
   "name": "conda_python3"
  },
  "language_info": {
   "codemirror_mode": {
    "name": "ipython",
    "version": 3
   },
   "file_extension": ".py",
   "mimetype": "text/x-python",
   "name": "python",
   "nbconvert_exporter": "python",
   "pygments_lexer": "ipython3",
   "version": "3.6.10"
  }
 },
 "nbformat": 4,
 "nbformat_minor": 4
}
